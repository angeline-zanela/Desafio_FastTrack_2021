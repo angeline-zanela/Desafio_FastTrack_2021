{
 "cells": [
  {
   "cell_type": "code",
   "execution_count": 360,
   "id": "86843654",
   "metadata": {},
   "outputs": [
    {
     "name": "stdout",
     "output_type": "stream",
     "text": [
      "Requirement already satisfied: mysqlclient in c:\\users\\angeline.zanela\\anaconda3\\lib\\site-packages (2.0.3)Note: you may need to restart the kernel to use updated packages.\n",
      "\n"
     ]
    }
   ],
   "source": [
    "pip install mysqlclient"
   ]
  },
  {
   "cell_type": "code",
   "execution_count": 361,
   "id": "4ce09479",
   "metadata": {
    "scrolled": true
   },
   "outputs": [
    {
     "name": "stdout",
     "output_type": "stream",
     "text": [
      "Requirement already satisfied: psycopg2 in c:\\users\\angeline.zanela\\anaconda3\\lib\\site-packages (2.9.1)\n",
      "Note: you may need to restart the kernel to use updated packages.\n"
     ]
    }
   ],
   "source": [
    "pip install psycopg2"
   ]
  },
  {
   "cell_type": "code",
   "execution_count": 362,
   "id": "ee371277",
   "metadata": {},
   "outputs": [],
   "source": [
    "import pandas as pd\n",
    "\n"
   ]
  },
  {
   "cell_type": "code",
   "execution_count": 363,
   "id": "2eeb4453",
   "metadata": {},
   "outputs": [
    {
     "data": {
      "text/html": [
       "<div>\n",
       "<style scoped>\n",
       "    .dataframe tbody tr th:only-of-type {\n",
       "        vertical-align: middle;\n",
       "    }\n",
       "\n",
       "    .dataframe tbody tr th {\n",
       "        vertical-align: top;\n",
       "    }\n",
       "\n",
       "    .dataframe thead th {\n",
       "        text-align: right;\n",
       "    }\n",
       "</style>\n",
       "<table border=\"1\" class=\"dataframe\">\n",
       "  <thead>\n",
       "    <tr style=\"text-align: right;\">\n",
       "      <th></th>\n",
       "      <th>step</th>\n",
       "      <th>customer</th>\n",
       "      <th>age</th>\n",
       "      <th>gender</th>\n",
       "      <th>zipcodeOri</th>\n",
       "      <th>merchant</th>\n",
       "      <th>zipMerchant</th>\n",
       "      <th>category</th>\n",
       "      <th>amount</th>\n",
       "      <th>fraud</th>\n",
       "    </tr>\n",
       "  </thead>\n",
       "  <tbody>\n",
       "    <tr>\n",
       "      <th>0</th>\n",
       "      <td>0</td>\n",
       "      <td>'C1093826151'</td>\n",
       "      <td>'4'</td>\n",
       "      <td>'M'</td>\n",
       "      <td>'28007'</td>\n",
       "      <td>'M348934600'</td>\n",
       "      <td>'28007'</td>\n",
       "      <td>'es_transportation'</td>\n",
       "      <td>4.55</td>\n",
       "      <td>0</td>\n",
       "    </tr>\n",
       "    <tr>\n",
       "      <th>1</th>\n",
       "      <td>0</td>\n",
       "      <td>'C352968107'</td>\n",
       "      <td>'2'</td>\n",
       "      <td>'M'</td>\n",
       "      <td>'28007'</td>\n",
       "      <td>'M348934600'</td>\n",
       "      <td>'28007'</td>\n",
       "      <td>'es_transportation'</td>\n",
       "      <td>39.68</td>\n",
       "      <td>0</td>\n",
       "    </tr>\n",
       "    <tr>\n",
       "      <th>2</th>\n",
       "      <td>0</td>\n",
       "      <td>'C2054744914'</td>\n",
       "      <td>'4'</td>\n",
       "      <td>'F'</td>\n",
       "      <td>'28007'</td>\n",
       "      <td>'M1823072687'</td>\n",
       "      <td>'28007'</td>\n",
       "      <td>'es_transportation'</td>\n",
       "      <td>26.89</td>\n",
       "      <td>0</td>\n",
       "    </tr>\n",
       "    <tr>\n",
       "      <th>3</th>\n",
       "      <td>0</td>\n",
       "      <td>'C1760612790'</td>\n",
       "      <td>'3'</td>\n",
       "      <td>'M'</td>\n",
       "      <td>'28007'</td>\n",
       "      <td>'M348934600'</td>\n",
       "      <td>'28007'</td>\n",
       "      <td>'es_transportation'</td>\n",
       "      <td>17.25</td>\n",
       "      <td>0</td>\n",
       "    </tr>\n",
       "    <tr>\n",
       "      <th>4</th>\n",
       "      <td>0</td>\n",
       "      <td>'C757503768'</td>\n",
       "      <td>'5'</td>\n",
       "      <td>'M'</td>\n",
       "      <td>'28007'</td>\n",
       "      <td>'M348934600'</td>\n",
       "      <td>'28007'</td>\n",
       "      <td>'es_transportation'</td>\n",
       "      <td>35.72</td>\n",
       "      <td>0</td>\n",
       "    </tr>\n",
       "  </tbody>\n",
       "</table>\n",
       "</div>"
      ],
      "text/plain": [
       "   step       customer  age gender zipcodeOri       merchant zipMerchant  \\\n",
       "0     0  'C1093826151'  '4'    'M'    '28007'   'M348934600'     '28007'   \n",
       "1     0   'C352968107'  '2'    'M'    '28007'   'M348934600'     '28007'   \n",
       "2     0  'C2054744914'  '4'    'F'    '28007'  'M1823072687'     '28007'   \n",
       "3     0  'C1760612790'  '3'    'M'    '28007'   'M348934600'     '28007'   \n",
       "4     0   'C757503768'  '5'    'M'    '28007'   'M348934600'     '28007'   \n",
       "\n",
       "              category  amount  fraud  \n",
       "0  'es_transportation'    4.55      0  \n",
       "1  'es_transportation'   39.68      0  \n",
       "2  'es_transportation'   26.89      0  \n",
       "3  'es_transportation'   17.25      0  \n",
       "4  'es_transportation'   35.72      0  "
      ]
     },
     "execution_count": 363,
     "metadata": {},
     "output_type": "execute_result"
    }
   ],
   "source": [
    "df1 = pd.read_csv(\"db.transactions.csv\")\n",
    "df2 = df1\n",
    "df2.head(5)"
   ]
  },
  {
   "cell_type": "code",
   "execution_count": 364,
   "id": "b873409a",
   "metadata": {},
   "outputs": [],
   "source": [
    "#ID INCREMENTAL\n",
    "df2 = df2.assign(id=[0 + i for i in range(len(df2))])[['id'] + df2.columns.tolist()]"
   ]
  },
  {
   "cell_type": "code",
   "execution_count": 365,
   "id": "7d1098cd",
   "metadata": {},
   "outputs": [
    {
     "name": "stdout",
     "output_type": "stream",
     "text": [
      "<class 'pandas.core.frame.DataFrame'>\n",
      "RangeIndex: 594643 entries, 0 to 594642\n",
      "Data columns (total 11 columns):\n",
      " #   Column       Non-Null Count   Dtype  \n",
      "---  ------       --------------   -----  \n",
      " 0   id           594643 non-null  int64  \n",
      " 1   step         594643 non-null  int64  \n",
      " 2   customer     594643 non-null  object \n",
      " 3   age          594643 non-null  object \n",
      " 4   gender       594643 non-null  object \n",
      " 5   zipcodeOri   594643 non-null  object \n",
      " 6   merchant     594643 non-null  object \n",
      " 7   zipMerchant  594643 non-null  object \n",
      " 8   category     594643 non-null  object \n",
      " 9   amount       594643 non-null  float64\n",
      " 10  fraud        594643 non-null  int64  \n",
      "dtypes: float64(1), int64(3), object(7)\n",
      "memory usage: 49.9+ MB\n"
     ]
    }
   ],
   "source": [
    "df2.head(10)\n",
    "df2.info()"
   ]
  },
  {
   "cell_type": "code",
   "execution_count": 366,
   "id": "506249f3",
   "metadata": {},
   "outputs": [],
   "source": [
    "#remove as aspas simples\n",
    "#coluna age\n",
    "df2[\"age\"] = df2[\"age\"].map(lambda x: str(x).replace(\"'\",\"\"))"
   ]
  },
  {
   "cell_type": "code",
   "execution_count": 367,
   "id": "a7ba0914",
   "metadata": {},
   "outputs": [],
   "source": [
    "#remove o U\n",
    "df2[\"age\"] = df2[\"age\"].replace([\"U\"], None)"
   ]
  },
  {
   "cell_type": "code",
   "execution_count": 368,
   "id": "1a6a3f32",
   "metadata": {},
   "outputs": [],
   "source": [
    "#converte string para int\n",
    "df2[\"age\"] = df2[\"age\"].astype(int)"
   ]
  },
  {
   "cell_type": "code",
   "execution_count": 369,
   "id": "d2592e67",
   "metadata": {},
   "outputs": [
    {
     "name": "stdout",
     "output_type": "stream",
     "text": [
      "<class 'pandas.core.frame.DataFrame'>\n",
      "RangeIndex: 594643 entries, 0 to 594642\n",
      "Data columns (total 11 columns):\n",
      " #   Column       Non-Null Count   Dtype  \n",
      "---  ------       --------------   -----  \n",
      " 0   id           594643 non-null  int64  \n",
      " 1   step         594643 non-null  int64  \n",
      " 2   customer     594643 non-null  object \n",
      " 3   age          594643 non-null  int32  \n",
      " 4   gender       594643 non-null  object \n",
      " 5   zipcodeOri   594643 non-null  object \n",
      " 6   merchant     594643 non-null  object \n",
      " 7   zipMerchant  594643 non-null  object \n",
      " 8   category     594643 non-null  object \n",
      " 9   amount       594643 non-null  float64\n",
      " 10  fraud        594643 non-null  int64  \n",
      "dtypes: float64(1), int32(1), int64(3), object(6)\n",
      "memory usage: 47.6+ MB\n"
     ]
    }
   ],
   "source": [
    "df2.head(10)\n",
    "df2.info()"
   ]
  },
  {
   "cell_type": "code",
   "execution_count": 370,
   "id": "e120ff05",
   "metadata": {},
   "outputs": [],
   "source": [
    "#remove as aspas simples\n",
    "df2[\"gender\"] = df2[\"gender\"].map(lambda x: str(x).replace(\"'\",\"\"))\n",
    "#substitui as letras por NaN\n",
    "df2[\"gender\"] = df2[\"gender\"].replace([\"U\", \"E\"], np.nan)"
   ]
  },
  {
   "cell_type": "code",
   "execution_count": 371,
   "id": "d17f8d70",
   "metadata": {},
   "outputs": [],
   "source": [
    "#Criar coluna mês: \n",
    "  #      step 0 a 30 = 1\n",
    "  #      step 31 a 60 = 2\n",
    "  #      step 61 a 90 = 3\n",
    "  #      step 91 a 120 = 4\n",
    "  #      step 121 a 150 = 5\n",
    "  #      step 151 a 180 = 6\n",
    "\n",
    "df2.loc[(df2[\"step\"] <= 30), \"mes\"] = \"01\"\n",
    "df2.loc[(df2[\"step\"] >  30)  & (df2[\"step\"] <= 60),  \"mes\"] = \"02\"\n",
    "df2.loc[(df2[\"step\"] >  60)  & (df2[\"step\"] <= 90),  \"mes\"] = \"03\"\n",
    "df2.loc[(df2[\"step\"] >  90)  & (df2[\"step\"] <= 120), \"mes\"] = \"04\"\n",
    "df2.loc[(df2[\"step\"] >  120) & (df2[\"step\"] <= 150), \"mes\"] = \"05\"\n",
    "df2.loc[(df2[\"step\"] >  150) & (df2[\"step\"] <= 180), \"mes\"] = \"06\""
   ]
  },
  {
   "cell_type": "code",
   "execution_count": 372,
   "id": "ad1619c4",
   "metadata": {},
   "outputs": [
    {
     "data": {
      "text/plain": [
       "0         01\n",
       "1         01\n",
       "2         01\n",
       "3         01\n",
       "4         01\n",
       "          ..\n",
       "594638    06\n",
       "594639    06\n",
       "594640    06\n",
       "594641    06\n",
       "594642    06\n",
       "Name: mes, Length: 594643, dtype: object"
      ]
     },
     "execution_count": 372,
     "metadata": {},
     "output_type": "execute_result"
    }
   ],
   "source": [
    "df2[\"mes\"]"
   ]
  },
  {
   "cell_type": "code",
   "execution_count": 373,
   "id": "3ace6d43",
   "metadata": {},
   "outputs": [],
   "source": [
    "#cria coluna ano\n",
    "#df2 = df2.drop(\"ano\", 1)\n",
    "df2[\"ano\"] = \"2021\""
   ]
  },
  {
   "cell_type": "code",
   "execution_count": 374,
   "id": "74ad1942",
   "metadata": {},
   "outputs": [
    {
     "name": "stdout",
     "output_type": "stream",
     "text": [
      "<class 'pandas.core.frame.DataFrame'>\n",
      "RangeIndex: 594643 entries, 0 to 594642\n",
      "Data columns (total 13 columns):\n",
      " #   Column       Non-Null Count   Dtype  \n",
      "---  ------       --------------   -----  \n",
      " 0   id           594643 non-null  int64  \n",
      " 1   step         594643 non-null  int64  \n",
      " 2   customer     594643 non-null  object \n",
      " 3   age          594643 non-null  int32  \n",
      " 4   gender       592950 non-null  object \n",
      " 5   zipcodeOri   594643 non-null  object \n",
      " 6   merchant     594643 non-null  object \n",
      " 7   zipMerchant  594643 non-null  object \n",
      " 8   category     594643 non-null  object \n",
      " 9   amount       594643 non-null  float64\n",
      " 10  fraud        594643 non-null  int64  \n",
      " 11  mes          594643 non-null  object \n",
      " 12  ano          594643 non-null  object \n",
      "dtypes: float64(1), int32(1), int64(3), object(8)\n",
      "memory usage: 56.7+ MB\n"
     ]
    }
   ],
   "source": [
    "df2.info()"
   ]
  },
  {
   "cell_type": "code",
   "execution_count": 375,
   "id": "4a6085a1",
   "metadata": {},
   "outputs": [],
   "source": [
    "#coluna dia\n",
    "df2[\"dia\"] = \"01\""
   ]
  },
  {
   "cell_type": "code",
   "execution_count": 376,
   "id": "3c1ca901",
   "metadata": {
    "scrolled": true
   },
   "outputs": [
    {
     "data": {
      "text/html": [
       "<div>\n",
       "<style scoped>\n",
       "    .dataframe tbody tr th:only-of-type {\n",
       "        vertical-align: middle;\n",
       "    }\n",
       "\n",
       "    .dataframe tbody tr th {\n",
       "        vertical-align: top;\n",
       "    }\n",
       "\n",
       "    .dataframe thead th {\n",
       "        text-align: right;\n",
       "    }\n",
       "</style>\n",
       "<table border=\"1\" class=\"dataframe\">\n",
       "  <thead>\n",
       "    <tr style=\"text-align: right;\">\n",
       "      <th></th>\n",
       "      <th>id</th>\n",
       "      <th>step</th>\n",
       "      <th>customer</th>\n",
       "      <th>age</th>\n",
       "      <th>gender</th>\n",
       "      <th>zipcodeOri</th>\n",
       "      <th>merchant</th>\n",
       "      <th>zipMerchant</th>\n",
       "      <th>category</th>\n",
       "      <th>amount</th>\n",
       "      <th>fraud</th>\n",
       "      <th>mes</th>\n",
       "      <th>ano</th>\n",
       "      <th>dia</th>\n",
       "    </tr>\n",
       "  </thead>\n",
       "  <tbody>\n",
       "    <tr>\n",
       "      <th>0</th>\n",
       "      <td>0</td>\n",
       "      <td>0</td>\n",
       "      <td>'C1093826151'</td>\n",
       "      <td>4</td>\n",
       "      <td>M</td>\n",
       "      <td>'28007'</td>\n",
       "      <td>'M348934600'</td>\n",
       "      <td>'28007'</td>\n",
       "      <td>'es_transportation'</td>\n",
       "      <td>4.55</td>\n",
       "      <td>0</td>\n",
       "      <td>01</td>\n",
       "      <td>2021</td>\n",
       "      <td>01</td>\n",
       "    </tr>\n",
       "    <tr>\n",
       "      <th>1</th>\n",
       "      <td>1</td>\n",
       "      <td>0</td>\n",
       "      <td>'C352968107'</td>\n",
       "      <td>2</td>\n",
       "      <td>M</td>\n",
       "      <td>'28007'</td>\n",
       "      <td>'M348934600'</td>\n",
       "      <td>'28007'</td>\n",
       "      <td>'es_transportation'</td>\n",
       "      <td>39.68</td>\n",
       "      <td>0</td>\n",
       "      <td>01</td>\n",
       "      <td>2021</td>\n",
       "      <td>01</td>\n",
       "    </tr>\n",
       "    <tr>\n",
       "      <th>2</th>\n",
       "      <td>2</td>\n",
       "      <td>0</td>\n",
       "      <td>'C2054744914'</td>\n",
       "      <td>4</td>\n",
       "      <td>F</td>\n",
       "      <td>'28007'</td>\n",
       "      <td>'M1823072687'</td>\n",
       "      <td>'28007'</td>\n",
       "      <td>'es_transportation'</td>\n",
       "      <td>26.89</td>\n",
       "      <td>0</td>\n",
       "      <td>01</td>\n",
       "      <td>2021</td>\n",
       "      <td>01</td>\n",
       "    </tr>\n",
       "    <tr>\n",
       "      <th>3</th>\n",
       "      <td>3</td>\n",
       "      <td>0</td>\n",
       "      <td>'C1760612790'</td>\n",
       "      <td>3</td>\n",
       "      <td>M</td>\n",
       "      <td>'28007'</td>\n",
       "      <td>'M348934600'</td>\n",
       "      <td>'28007'</td>\n",
       "      <td>'es_transportation'</td>\n",
       "      <td>17.25</td>\n",
       "      <td>0</td>\n",
       "      <td>01</td>\n",
       "      <td>2021</td>\n",
       "      <td>01</td>\n",
       "    </tr>\n",
       "    <tr>\n",
       "      <th>4</th>\n",
       "      <td>4</td>\n",
       "      <td>0</td>\n",
       "      <td>'C757503768'</td>\n",
       "      <td>5</td>\n",
       "      <td>M</td>\n",
       "      <td>'28007'</td>\n",
       "      <td>'M348934600'</td>\n",
       "      <td>'28007'</td>\n",
       "      <td>'es_transportation'</td>\n",
       "      <td>35.72</td>\n",
       "      <td>0</td>\n",
       "      <td>01</td>\n",
       "      <td>2021</td>\n",
       "      <td>01</td>\n",
       "    </tr>\n",
       "  </tbody>\n",
       "</table>\n",
       "</div>"
      ],
      "text/plain": [
       "   id  step       customer  age gender zipcodeOri       merchant zipMerchant  \\\n",
       "0   0     0  'C1093826151'    4      M    '28007'   'M348934600'     '28007'   \n",
       "1   1     0   'C352968107'    2      M    '28007'   'M348934600'     '28007'   \n",
       "2   2     0  'C2054744914'    4      F    '28007'  'M1823072687'     '28007'   \n",
       "3   3     0  'C1760612790'    3      M    '28007'   'M348934600'     '28007'   \n",
       "4   4     0   'C757503768'    5      M    '28007'   'M348934600'     '28007'   \n",
       "\n",
       "              category  amount  fraud mes   ano dia  \n",
       "0  'es_transportation'    4.55      0  01  2021  01  \n",
       "1  'es_transportation'   39.68      0  01  2021  01  \n",
       "2  'es_transportation'   26.89      0  01  2021  01  \n",
       "3  'es_transportation'   17.25      0  01  2021  01  \n",
       "4  'es_transportation'   35.72      0  01  2021  01  "
      ]
     },
     "execution_count": 376,
     "metadata": {},
     "output_type": "execute_result"
    }
   ],
   "source": [
    "df2.head(5)"
   ]
  }
 ],
 "metadata": {
  "kernelspec": {
   "display_name": "Python 3",
   "language": "python",
   "name": "python3"
  },
  "language_info": {
   "codemirror_mode": {
    "name": "ipython",
    "version": 3
   },
   "file_extension": ".py",
   "mimetype": "text/x-python",
   "name": "python",
   "nbconvert_exporter": "python",
   "pygments_lexer": "ipython3",
   "version": "3.8.8"
  }
 },
 "nbformat": 4,
 "nbformat_minor": 5
}
